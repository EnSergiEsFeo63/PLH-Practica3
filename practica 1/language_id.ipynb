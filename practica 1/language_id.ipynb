{
 "cells": [
  {
   "cell_type": "code",
   "execution_count": null,
   "metadata": {},
   "outputs": [],
   "source": [
    "import nltk\n"
   ]
  },
  {
   "cell_type": "code",
   "execution_count": null,
   "metadata": {},
   "outputs": [],
   "source": [
    "\n",
    "languages = ['deu', 'eng', 'fra', 'ita', 'nld', 'spa']\n",
    "trn_lst = []\n",
    "tst_lst = []\n",
    "for lang in languages:\n",
    "    with open(f\"./langId/{lang}_trn.txt\", \"r\", encoding=\"utf-8\") as llegir:\n",
    "        trn_lst.append(llegir.read())\n",
    "    with open(f\"./langId/{lang}_tst.txt\", \"r\", encoding=\"utf-8\") as llegir:\n",
    "        tst_lst.append(llegir.read())\n",
    "\n",
    "deu_trn, eng_trn, fra_trn, ita_trn, nld_trn, spa_trn = trn_lst\n",
    "deu_tst, eng_tst, fra_tst, ita_tst, nld_tst, spa_tst = tst_lst"
   ]
  }
 ],
 "metadata": {
  "kernelspec": {
   "display_name": "Python 3",
   "language": "python",
   "name": "python3"
  },
  "language_info": {
   "name": "python",
   "version": "3.12.9"
  }
 },
 "nbformat": 4,
 "nbformat_minor": 2
}
