{
 "cells": [
  {
   "cell_type": "code",
   "execution_count": null,
   "metadata": {
    "vscode": {
     "languageId": "plaintext"
    }
   },
   "outputs": [],
   "source": [
    "import nltk"
   ]
  },
  {
   "cell_type": "code",
   "execution_count": null,
   "metadata": {
    "vscode": {
     "languageId": "plaintext"
    }
   },
   "outputs": [],
   "source": [
    "\n",
    "languages = ['deu', 'eng', 'fra', 'ita', 'nld', 'spa']\n",
    "trn_lst = []\n",
    "tst_lst = []\n",
    "for lang in languages:\n",
    "    with open(f\"./langId/{lang}_trn.txt\", \"r\", encoding=\"utf-8\") as llegir:\n",
    "        trn_lst.append(llegir.read())\n",
    "    with open(f\"./langId/{lang}_tst.txt\", \"r\", encoding=\"utf-8\") as llegir:\n",
    "        tst_lst.append(llegir.read())\n",
    "\n",
    "deu_trn, eng_trn, fra_trn, ita_trn, nld_trn, spa_trn = trn_lst\n",
    "deu_tst, eng_tst, fra_tst, ita_tst, nld_tst, spa_tst = tst_lst"
   ]
  }
 ],
 "metadata": {
  "language_info": {
   "name": "python"
  }
 },
 "nbformat": 4,
 "nbformat_minor": 2
}
