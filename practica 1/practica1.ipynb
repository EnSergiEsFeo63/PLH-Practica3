{
 "cells": [
  {
   "cell_type": "markdown",
   "metadata": {},
   "source": [
    "# Preprocessament \n",
    "(Eliminar els digits del text, Convertir tot el text a minúscula, Substitueix els espais en blanc continus per un de sol, Concatena totes les frases amb un espai doble al mig)"
   ]
  },
  {
   "cell_type": "code",
   "execution_count": null,
   "metadata": {},
   "outputs": [],
   "source": [
    "import nltk\n",
    "nltk.download('punkt')\n",
    "nltk.download('punkt_tab')"
   ]
  },
  {
   "cell_type": "code",
   "execution_count": 5,
   "metadata": {},
   "outputs": [],
   "source": [
    "with open(\"C:/Users/sambr/Desktop/FIB/PLH/Laboratori/pràctiques/practica 1/langId/deu_trn.txt\",\"r\", encoding=\"utf-8\") as llegir:\n",
    "    deu_trn = llegir.read()\n",
    "with open(\"C:/Users/sambr/Desktop/FIB/PLH/Laboratori/pràctiques/practica 1/langId/deu_tst.txt\",\"r\", encoding=\"utf-8\") as llegir:\n",
    "    deu_tst = llegir.read()\n",
    "with open(\"C:/Users/sambr/Desktop/FIB/PLH/Laboratori/pràctiques/practica 1/langId/eng_trn.txt\",\"r\", encoding=\"utf-8\") as llegir:\n",
    "    eng_trn = llegir.read()\n",
    "with open(\"C:/Users/sambr/Desktop/FIB/PLH/Laboratori/pràctiques/practica 1/langId/eng_tst.txt\",\"r\", encoding=\"utf-8\") as llegir:\n",
    "    eng_tst = llegir.read()\n",
    "with open(\"C:/Users/sambr/Desktop/FIB/PLH/Laboratori/pràctiques/practica 1/langId/fra_trn.txt\",\"r\", encoding=\"utf-8\") as llegir:\n",
    "    fra_trn = llegir.read()\n",
    "with open(\"C:/Users/sambr/Desktop/FIB/PLH/Laboratori/pràctiques/practica 1/langId/fra_tst.txt\",\"r\", encoding=\"utf-8\") as llegir:\n",
    "    fra_tst = llegir.read()\n",
    "with open(\"C:/Users/sambr/Desktop/FIB/PLH/Laboratori/pràctiques/practica 1/langId/ita_trn.txt\",\"r\", encoding=\"utf-8\") as llegir:\n",
    "    ita_trn = llegir.read()\n",
    "with open(\"C:/Users/sambr/Desktop/FIB/PLH/Laboratori/pràctiques/practica 1/langId/ita_tst.txt\",\"r\", encoding=\"utf-8\") as llegir:\n",
    "    ita_tst = llegir.read()\n",
    "with open(\"C:/Users/sambr/Desktop/FIB/PLH/Laboratori/pràctiques/practica 1/langId/nld_trn.txt\",\"r\", encoding=\"utf-8\") as llegir:\n",
    "    nld_trn = llegir.read()\n",
    "with open(\"C:/Users/sambr/Desktop/FIB/PLH/Laboratori/pràctiques/practica 1/langId/nld_tst.txt\",\"r\", encoding=\"utf-8\") as llegir:\n",
    "    nld_tst = llegir.read()\n",
    "with open(\"C:/Users/sambr/Desktop/FIB/PLH/Laboratori/pràctiques/practica 1/langId/spa_trn.txt\",\"r\", encoding=\"utf-8\") as llegir:\n",
    "    spa_trn = llegir.read()\n",
    "with open(\"C:/Users/sambr/Desktop/FIB/PLH/Laboratori/pràctiques/practica 1/langId/spa_tst.txt\",\"r\", encoding=\"utf-8\") as llegir:\n",
    "    spa_tst = llegir.read()"
   ]
  },
  {
   "cell_type": "code",
   "execution_count": 6,
   "metadata": {},
   "outputs": [
    {
     "ename": "NameError",
     "evalue": "name 're' is not defined",
     "output_type": "error",
     "traceback": [
      "\u001b[1;31m---------------------------------------------------------------------------\u001b[0m",
      "\u001b[1;31mNameError\u001b[0m                                 Traceback (most recent call last)",
      "Cell \u001b[1;32mIn[6], line 1\u001b[0m\n\u001b[1;32m----> 1\u001b[0m \u001b[43mre\u001b[49m\u001b[38;5;241m.\u001b[39msub(\u001b[38;5;124mr\u001b[39m\u001b[38;5;124m'\u001b[39m\u001b[38;5;124m\\\u001b[39m\u001b[38;5;124md+\u001b[39m\u001b[38;5;124m'\u001b[39m, \u001b[38;5;124m'\u001b[39m\u001b[38;5;124m'\u001b[39m, eng_trn)\n",
      "\u001b[1;31mNameError\u001b[0m: name 're' is not defined"
     ]
    }
   ],
   "source": [
    "re.sub(r'\\d+', '', eng_trn)"
   ]
  }
 ],
 "metadata": {
  "kernelspec": {
   "display_name": "Python 3",
   "language": "python",
   "name": "python3"
  },
  "language_info": {
   "codemirror_mode": {
    "name": "ipython",
    "version": 3
   },
   "file_extension": ".py",
   "mimetype": "text/x-python",
   "name": "python",
   "nbconvert_exporter": "python",
   "pygments_lexer": "ipython3",
   "version": "3.12.9"
  }
 },
 "nbformat": 4,
 "nbformat_minor": 2
}
