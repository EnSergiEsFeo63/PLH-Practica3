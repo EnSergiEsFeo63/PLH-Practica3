{
 "cells": [
  {
   "cell_type": "markdown",
   "id": "14c47af4",
   "metadata": {},
   "source": [
    "# Pràctica 3"
   ]
  },
  {
   "cell_type": "code",
   "execution_count": 2,
   "id": "d3b928f2",
   "metadata": {},
   "outputs": [
    {
     "name": "stderr",
     "output_type": "stream",
     "text": [
      "[nltk_data] Downloading package conll2002 to\n",
      "[nltk_data]     C:\\Users\\sambr\\AppData\\Roaming\\nltk_data...\n",
      "[nltk_data]   Package conll2002 is already up-to-date!\n"
     ]
    }
   ],
   "source": [
    "import nltk\n",
    "nltk.download('conll2002')\n",
    "from nltk.corpus import conll2002\n",
    "train_es = conll2002.iob_sents('esp.train') # Train\n",
    "dev_es = conll2002.iob_sents('esp.testa') # Dev\n",
    "test_es =conll2002.iob_sents('esp.testb') # Test\n",
    "\n",
    "train_ned = conll2002.iob_sents('ned.train') # Train\n",
    "dev_ned = conll2002.iob_sents('ned.testa') # Dev\n",
    "test_ned =conll2002.iob_sents('ned.testb') # Test"
   ]
  },
  {
   "cell_type": "code",
   "execution_count": 36,
   "id": "efdbb168",
   "metadata": {},
   "outputs": [
    {
     "name": "stdout",
     "output_type": "stream",
     "text": [
      "8323\n"
     ]
    }
   ],
   "source": [
    "train = conll2002.tagged_sents('esp.train')\n",
    "test = conll2002.tagged_sents('esp.testb')\n",
    "print(len(train))"
   ]
  },
  {
   "cell_type": "code",
   "execution_count": 24,
   "id": "47f56828",
   "metadata": {},
   "outputs": [],
   "source": [
    "model = nltk.tag.CRFTagger()\n"
   ]
  },
  {
   "cell_type": "code",
   "execution_count": null,
   "id": "5193f65c",
   "metadata": {},
   "outputs": [
    {
     "name": "stdout",
     "output_type": "stream",
     "text": [
      "500\n"
     ]
    }
   ],
   "source": [
    "train_sample = train[0:500] #temps d'entrenament còmicament gran amb totes les dades: pillo un sample més petit\n",
    "print(len(train_sample))"
   ]
  },
  {
   "cell_type": "code",
   "execution_count": null,
   "id": "4aecc1bd",
   "metadata": {},
   "outputs": [],
   "source": [
    "model.train(train_sample, 'crfTaggerEs.mdl')\n"
   ]
  },
  {
   "cell_type": "code",
   "execution_count": 37,
   "id": "07b0faad",
   "metadata": {},
   "outputs": [
    {
     "data": {
      "text/plain": [
       "0.8961248132264762"
      ]
     },
     "execution_count": 37,
     "metadata": {},
     "output_type": "execute_result"
    }
   ],
   "source": [
    "model.accuracy(test)"
   ]
  }
 ],
 "metadata": {
  "kernelspec": {
   "display_name": "Python 3",
   "language": "python",
   "name": "python3"
  },
  "language_info": {
   "codemirror_mode": {
    "name": "ipython",
    "version": 3
   },
   "file_extension": ".py",
   "mimetype": "text/x-python",
   "name": "python",
   "nbconvert_exporter": "python",
   "pygments_lexer": "ipython3",
   "version": "3.12.10"
  }
 },
 "nbformat": 4,
 "nbformat_minor": 5
}
